{
  "nbformat": 4,
  "nbformat_minor": 0,
  "metadata": {
    "colab": {
      "name": "Simulando Pacotes - Correios.ipynb",
      "provenance": [],
      "collapsed_sections": [],
      "authorship_tag": "ABX9TyNgjG/6ncya/YJ2foSNN+Cd",
      "include_colab_link": true
    },
    "kernelspec": {
      "name": "python3",
      "display_name": "Python 3"
    }
  },
  "cells": [
    {
      "cell_type": "markdown",
      "metadata": {
        "id": "view-in-github",
        "colab_type": "text"
      },
      "source": [
        "<a href=\"https://colab.research.google.com/github/almir-martins/migrando-pacotes-excel/blob/main/Simulando_Pacotes_Correios.ipynb\" target=\"_parent\"><img src=\"https://colab.research.google.com/assets/colab-badge.svg\" alt=\"Open In Colab\"/></a>"
      ]
    },
    {
      "cell_type": "markdown",
      "metadata": {
        "id": "2QcomRsMl20-"
      },
      "source": [
        "# Simulação descontos e contrapartida na troca de pacotes de serviços\n",
        "\n",
        "### Simulação de migração dos pacotes de serviços antigos para os  pacotes da Nova Política Comercial usando a planilha fornecida em Excel. \n",
        "\n",
        "### Usando a biblioteca <a href=\"https://github.com/burnash/gspread\"><code>gspread</code></a> de código aberto para interagir com o Planilhas Google.\n",
        "\n"
      ]
    },
    {
      "cell_type": "code",
      "metadata": {
        "id": "SoYh0ILlfeab",
        "outputId": "f5fbb2d1-74ba-42e9-bbd9-e85569514d2e",
        "colab": {
          "base_uri": "https://localhost:8080/",
          "height": 421
        }
      },
      "source": [
        "!pip install --upgrade gspread"
      ],
      "execution_count": null,
      "outputs": [
        {
          "output_type": "stream",
          "text": [
            "Collecting gspread\n",
            "  Downloading https://files.pythonhosted.org/packages/9c/ba/bc8de4f5077bd34bc873bdd67a89cb29c4f181abba8a836d2c6a0a142365/gspread-3.6.0-py3-none-any.whl\n",
            "Requirement already satisfied, skipping upgrade: google-auth>=1.12.0 in /usr/local/lib/python3.6/dist-packages (from gspread) (1.17.2)\n",
            "Requirement already satisfied, skipping upgrade: requests>=2.2.1 in /usr/local/lib/python3.6/dist-packages (from gspread) (2.23.0)\n",
            "Requirement already satisfied, skipping upgrade: google-auth-oauthlib>=0.4.1 in /usr/local/lib/python3.6/dist-packages (from gspread) (0.4.1)\n",
            "Requirement already satisfied, skipping upgrade: cachetools<5.0,>=2.0.0 in /usr/local/lib/python3.6/dist-packages (from google-auth>=1.12.0->gspread) (4.1.1)\n",
            "Requirement already satisfied, skipping upgrade: pyasn1-modules>=0.2.1 in /usr/local/lib/python3.6/dist-packages (from google-auth>=1.12.0->gspread) (0.2.8)\n",
            "Requirement already satisfied, skipping upgrade: setuptools>=40.3.0 in /usr/local/lib/python3.6/dist-packages (from google-auth>=1.12.0->gspread) (50.3.0)\n",
            "Requirement already satisfied, skipping upgrade: rsa<5,>=3.1.4; python_version >= \"3\" in /usr/local/lib/python3.6/dist-packages (from google-auth>=1.12.0->gspread) (4.6)\n",
            "Requirement already satisfied, skipping upgrade: six>=1.9.0 in /usr/local/lib/python3.6/dist-packages (from google-auth>=1.12.0->gspread) (1.15.0)\n",
            "Requirement already satisfied, skipping upgrade: certifi>=2017.4.17 in /usr/local/lib/python3.6/dist-packages (from requests>=2.2.1->gspread) (2020.6.20)\n",
            "Requirement already satisfied, skipping upgrade: urllib3!=1.25.0,!=1.25.1,<1.26,>=1.21.1 in /usr/local/lib/python3.6/dist-packages (from requests>=2.2.1->gspread) (1.24.3)\n",
            "Requirement already satisfied, skipping upgrade: idna<3,>=2.5 in /usr/local/lib/python3.6/dist-packages (from requests>=2.2.1->gspread) (2.10)\n",
            "Requirement already satisfied, skipping upgrade: chardet<4,>=3.0.2 in /usr/local/lib/python3.6/dist-packages (from requests>=2.2.1->gspread) (3.0.4)\n",
            "Requirement already satisfied, skipping upgrade: requests-oauthlib>=0.7.0 in /usr/local/lib/python3.6/dist-packages (from google-auth-oauthlib>=0.4.1->gspread) (1.3.0)\n",
            "Requirement already satisfied, skipping upgrade: pyasn1<0.5.0,>=0.4.6 in /usr/local/lib/python3.6/dist-packages (from pyasn1-modules>=0.2.1->google-auth>=1.12.0->gspread) (0.4.8)\n",
            "Requirement already satisfied, skipping upgrade: oauthlib>=3.0.0 in /usr/local/lib/python3.6/dist-packages (from requests-oauthlib>=0.7.0->google-auth-oauthlib>=0.4.1->gspread) (3.1.0)\n",
            "Installing collected packages: gspread\n",
            "  Found existing installation: gspread 3.0.1\n",
            "    Uninstalling gspread-3.0.1:\n",
            "      Successfully uninstalled gspread-3.0.1\n",
            "Successfully installed gspread-3.6.0\n"
          ],
          "name": "stdout"
        }
      ]
    },
    {
      "cell_type": "markdown",
      "metadata": {
        "id": "R4If_btymAB4"
      },
      "source": [
        "### Importar a biblioteca\n",
        "### Autenticação no Google Planilhas."
      ]
    },
    {
      "cell_type": "code",
      "metadata": {
        "id": "gJc5L9G9lnN1"
      },
      "source": [
        "from google.colab import auth\n",
        "auth.authenticate_user()\n",
        "\n",
        "import gspread\n",
        "from oauth2client.client import GoogleCredentials\n",
        "\n",
        "gc = gspread.authorize(GoogleCredentials.get_application_default())"
      ],
      "execution_count": null,
      "outputs": []
    },
    {
      "cell_type": "markdown",
      "metadata": {
        "id": "0F4eYbCPQKCd"
      },
      "source": [
        "# Pega os cabeçalhos das colunas da planilha SEDEX na versão do cliente"
      ]
    },
    {
      "cell_type": "code",
      "metadata": {
        "id": "Eca6OOdPQLET"
      },
      "source": [
        "def pega_cabecalhos_sedex(arquivo):    \n",
        "  # Seleciona a aba\n",
        "  aba = 'Almir simulação'\n",
        "\n",
        "  # Seleciona a planilha\n",
        "  planilha = arquivo.worksheet(aba)\n",
        "\n",
        "  # Pega os cabeçalhos\n",
        "  cabecalhos = planilha.get('A3:M3')\n",
        "\n",
        "  # Converte para dataframe\n",
        "  df_cabecalhos = pd.DataFrame.from_records(cabecalhos)\n",
        "\n",
        "  return list(df_cabecalhos.loc[0])"
      ],
      "execution_count": null,
      "outputs": []
    },
    {
      "cell_type": "markdown",
      "metadata": {
        "id": "cIk7EWfLQ_Ag"
      },
      "source": [
        "# Método para formatar tabela de SEDEX"
      ]
    },
    {
      "cell_type": "code",
      "metadata": {
        "id": "ggsIdw6yRDpP"
      },
      "source": [
        "def formata_tabela_sedex(nome_planilha, arquivo): \n",
        "  # Seleciona Planilha do pacote do cliente\n",
        "  planilha = arquivo.worksheet(nome_planilha)\n",
        "\n",
        "  # Tabela de preços do cliente (PAC)\n",
        "  tabela_sedex = planilha.get('A5:U18')  \n",
        "\n",
        "  # Converte para dataframe\n",
        "  df_tabela_sedex = pd.DataFrame.from_records(tabela_sedex)\n",
        "\n",
        "  # Apaga a primeira linha\n",
        "  df_tabela_sedex = df_tabela_sedex.drop([0,0])\n",
        "\n",
        "  # Apaga as colunas desnecessárias\n",
        "  df_tabela_sedex.drop(df_tabela_sedex.columns[[2,3,4,6,7,8,14,20]], axis=1, inplace=True)\n",
        "\n",
        "  # Pega os cabeçalhos definitivos\n",
        "  df_tabela_sedex.columns = pega_cabecalhos_sedex(arquivo)\n",
        "\n",
        "  return df_tabela_sedex\n"
      ],
      "execution_count": null,
      "outputs": []
    },
    {
      "cell_type": "markdown",
      "metadata": {
        "id": "PyhGcZ7eEbw1"
      },
      "source": [
        "# Pega os cabeçalhos das colunas da planilha PAC na versão do cliente"
      ]
    },
    {
      "cell_type": "code",
      "metadata": {
        "id": "j5p23Cs6EZwW"
      },
      "source": [
        "def pega_cabecalhos_pac(arquivo):    \n",
        "  # Seleciona a aba\n",
        "  aba = 'Almir simulação'\n",
        "\n",
        "  # Seleciona a planilha\n",
        "  planilha = arquivo.worksheet(aba)\n",
        "\n",
        "  # Pega os cabeçalhos\n",
        "  cabecalhos = planilha.get('A21:L21')\n",
        "\n",
        "  # Converte para dataframe\n",
        "  df_cabecalhos = pd.DataFrame.from_records(cabecalhos)\n",
        "\n",
        "  return list(df_cabecalhos.loc[0])"
      ],
      "execution_count": null,
      "outputs": []
    },
    {
      "cell_type": "markdown",
      "metadata": {
        "id": "6cI4rp8UYnbG"
      },
      "source": [
        "# Método para formatar tabela de PAC"
      ]
    },
    {
      "cell_type": "code",
      "metadata": {
        "id": "vg_6Uy4uYmEQ"
      },
      "source": [
        "def formata_tabela_pac(nome_planilha, arquivo): \n",
        "  # Seleciona Planilha do pacote do cliente\n",
        "  planilha = arquivo.worksheet(nome_planilha)\n",
        "\n",
        "  # Tabela de preços do cliente (PAC)\n",
        "  tabela_pac = planilha.get('A24:Q36')  \n",
        "\n",
        "  # Converte para dataframe\n",
        "  df_tabela_pac = pd.DataFrame.from_records(tabela_pac)\n",
        "\n",
        "  # Apaga a primeira linha\n",
        "  df_tabela_pac = df_tabela_pac.drop([0,0])\n",
        "\n",
        "  # Apaga as colunas desnecessárias\n",
        "  df_tabela_pac.drop(df_tabela_pac.columns[[2,3,4,10,16]], axis=1, inplace=True)\n",
        "\n",
        "  # Pega os cabeçalhos definitivos\n",
        "  df_tabela_pac.columns = pega_cabecalhos_pac(arquivo)\n",
        "\n",
        "  return df_tabela_pac\n"
      ],
      "execution_count": null,
      "outputs": []
    },
    {
      "cell_type": "markdown",
      "metadata": {
        "id": "upIxXG3IZfyH"
      },
      "source": [
        "# Fábrica de pacotes\n",
        "\n",
        "## Constrói as tabelas de SEDEX e PAC do pacote requisitado"
      ]
    },
    {
      "cell_type": "code",
      "metadata": {
        "id": "a8smf5KPLPYp"
      },
      "source": [
        "def gera_pacote(pacote):\n",
        "  # Abre o arquivo\n",
        "  arquivo = gc.open('Simulador de migração - Pacotes Python')\n",
        "\n",
        "  # constrói a tabela SEDEX\n",
        "  tabela_SEDEX = formata_tabela_sedex(pacote, arquivo)\n",
        "\n",
        "  # constrói a tabela PAC\n",
        "  tabela_PAC = formata_tabela_pac(pacote, arquivo)  \n",
        "\n",
        "  return tabela_SEDEX, tabela_PAC"
      ],
      "execution_count": null,
      "outputs": []
    },
    {
      "cell_type": "code",
      "metadata": {
        "id": "tGqb7Af7KdLq"
      },
      "source": [
        "# Pacote de origem\n",
        "pacote_cliente = 'ENC_2.1'\n",
        "\n",
        "pac_cliente, sedex_cliente = gera_pacote(pacote_cliente)\n",
        "\n",
        "pacote_1 = 'BRONZE1'\n",
        "pacote_2 = 'PRATA1'\n",
        "\n",
        "\n",
        "\n",
        "print(pac_cliente.to_string(index=False))\n",
        "print(sedex_cliente.to_string(index=False))"
      ],
      "execution_count": null,
      "outputs": []
    }
  ]
}